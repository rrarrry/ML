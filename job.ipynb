{
 "cells": [
  {
   "cell_type": "code",
   "execution_count": 1,
   "metadata": {},
   "outputs": [],
   "source": [
    "import pandas as pd\n",
    "import numpy as np\n",
    "import statsmodels.api as sm\n",
    "import matplotlib.pyplot as plt\n",
    "from sklearn import metrics\n",
    "from sklearn.model_selection import train_test_split\n",
    "from sklearn.linear_model import LogisticRegression\n",
    "from sklearn.metrics import classification_report\n",
    "from sklearn.metrics import confusion_matrix\n",
    "from sklearn.metrics import accuracy_score, roc_auc_score, roc_curve\n",
    "\n",
    "x = [[520, 3.61], [580, 3.67], [800, 4.0], [640, 3.19], [520, 2.93], [605, 3.02],\n",
    "     [695, 4.3], [695, 2.74], [700, 3.21], [625, 3.56], [895, 3.0]]\n",
    "y = [0, 1, 1, 0, 0, 0, 1, 0, 1, 1, 1]\n",
    "\n",
    "x_train, x_test, y_train, y_test = train_test_split(x, y, test_size = 0.3, random_state = 0)\n"
   ]
  },
  {
   "cell_type": "code",
   "execution_count": 2,
   "metadata": {},
   "outputs": [
    {
     "name": "stdout",
     "output_type": "stream",
     "text": [
      "Optimization terminated successfully.\n",
      "         Current function value: 0.648454\n",
      "         Iterations 5\n",
      "                           Logit Regression Results                           \n",
      "==============================================================================\n",
      "Dep. Variable:                      y   No. Observations:                    7\n",
      "Model:                          Logit   Df Residuals:                        5\n",
      "Method:                           MLE   Df Model:                            1\n",
      "Date:                Wed, 18 Dec 2024   Pseudo R-squ.:                 0.05045\n",
      "Time:                        11:48:58   Log-Likelihood:                -4.5392\n",
      "converged:                       True   LL-Null:                       -4.7804\n",
      "Covariance Type:            nonrobust   LLR p-value:                    0.4874\n",
      "==============================================================================\n",
      "                 coef    std err          z      P>|z|      [0.025      0.975]\n",
      "------------------------------------------------------------------------------\n",
      "x1            -0.0053      0.007     -0.746      0.456      -0.019       0.009\n",
      "x2             0.9360      1.313      0.713      0.476      -1.637       3.509\n",
      "==============================================================================\n"
     ]
    }
   ],
   "source": [
    "from sklearn.linear_model import LogisticRegression\n",
    "\n",
    "model = sm.Logit(y_train, x_train)\n",
    "results = model.fit()\n",
    "print(results.summary())\n"
   ]
  },
  {
   "cell_type": "markdown",
   "metadata": {},
   "source": [
    "1. 주요 요약 통계\n",
    "Dep. Variable: y (종속 변수)\n",
    "\n",
    "No. Observations: 7 (데이터의 총 개수)\n",
    "\n",
    "Model: Logit (로지스틱 회귀 모델)\n",
    "\n",
    "Method: MLE (최대우도추정법 사용)\n",
    "\n",
    "Pseudo R-squared: 0.05045\n",
    "\n",
    "이는 모델의 설명력 지표이며, 값이 작아 모델이 데이터를 잘 설명하지 못하고 있다는 신호입니다.\n",
    "Log-Likelihood: -4.5392\n",
    "\n",
    "로그 우도 값으로 모델의 적합도를 나타내며, 절대값이 클수록 모델의 성능이 낮습니다.\n",
    "LL-Null: -4.7804\n",
    "\n",
    "Null 모델(독립변수 없이 평균값만 고려)의 로그 우도 값입니다.\n",
    "LLR p-value: 0.4874\n",
    "\n",
    "모델 전체의 유의성을 검정하는 지표입니다.\n",
    "p-value > 0.05로, 귀무가설(모델이 통계적으로 유의하지 않다)을 기각할 수 없습니다. 즉, 모델의 유의성이 낮습니다.\n",
    "2. 회귀 계수 해석\n",
    "| 변수 | coef (회귀 계수) | std err (표준 오차) | z (z-통계량) | P>|z| (p-value) | 신뢰구간 [0.025, 0.975] | |------|------------------|---------------------|-------------|---------------|-------------------------| | x1 | -0.0053 | 0.007 | -0.746 | 0.456 | [-0.019, 0.009] | | x2 | 0.9360 | 1.313 | 0.713 | 0.476 | [-1.637, 3.509] |\n",
    "\n",
    "x1:\n",
    "\n",
    "회귀 계수: -0.0053\n",
    "→ x1이 1단위 증가할 때, 종속 변수의 로짓 값(로그 오즈 비율)이 약간 감소하지만,\n",
    "p-value가 0.456로 유의하지 않음.\n",
    "신뢰구간: [-0.019, 0.009] → 0을 포함하기 때문에 통계적으로 의미가 없습니다.\n",
    "x2:\n",
    "\n",
    "회귀 계수: 0.9360\n",
    "→ x2가 1단위 증가할 때, 종속 변수의 로짓 값이 증가하지만,\n",
    "p-value가 0.476으로 유의하지 않습니다.\n",
    "신뢰구간: [-1.637, 3.509] → 0을 포함하여 통계적으로 의미가 없습니다.\n",
    "3. 모델 해석 요약\n",
    "모델의 유의성:\n",
    "\n",
    "LLR p-value가 0.4874로, 모델 전체가 통계적으로 유의하지 않습니다.\n",
    "설명력:\n",
    "\n",
    "Pseudo R-squared 값이 0.05045로 매우 낮습니다.\n",
    "이는 모델이 데이터의 변동을 거의 설명하지 못한다는 의미입니다.\n",
    "개별 변수 유의성:\n",
    "\n",
    "x1과 x2 모두 p-value가 0.05 이상이므로 통계적으로 유의하지 않습니다.\n",
    "신뢰구간도 0을 포함하고 있습니다.\n",
    "결론\n",
    "이 모델은 데이터의 특성을 잘 설명하지 못하고 있으며, 변수(x1, x2) 또한 통계적으로 유의하지 않습니다. 모델 성능을 개선하려면:\n",
    "\n",
    "더 많은 데이터 확보\n",
    "중요한 설명 변수를 추가\n",
    "비선형 관계를 고려하는 모델 사용\n",
    "등을 검토해볼 필요가 있습니다."
   ]
  }
 ],
 "metadata": {
  "kernelspec": {
   "display_name": "kpmg",
   "language": "python",
   "name": "python3"
  },
  "language_info": {
   "codemirror_mode": {
    "name": "ipython",
    "version": 3
   },
   "file_extension": ".py",
   "mimetype": "text/x-python",
   "name": "python",
   "nbconvert_exporter": "python",
   "pygments_lexer": "ipython3",
   "version": "3.10.15"
  }
 },
 "nbformat": 4,
 "nbformat_minor": 2
}
